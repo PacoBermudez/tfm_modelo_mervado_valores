{
 "cells": [
  {
   "cell_type": "code",
   "execution_count": null,
   "id": "4e64e37b",
   "metadata": {},
   "outputs": [],
   "source": [
    "from src.config import PAISES\n",
    "import pandas as pd\n",
    "import numpy as np\n",
    "import statsmodels\n",
    "from math import sqrt\n",
    "import matplotlib.pyplot as plt\n",
    "import statsmodels.api as sm\n",
    "from pmdarima import auto_arima\n",
    "from statsmodels.tsa.stattools import adfuller\n",
    "from statsmodels.tsa.arima_model import ARIMA\n",
    "from pandas.plotting import autocorrelation_plot\n",
    "from pandas.tseries.offsets import DateOffset\n",
    "from statsmodels.tsa.seasonal import seasonal_decompose\n",
    "from statsmodels.graphics.tsaplots import plot_acf,plot_pacf\n",
    "from keras.preprocessing.sequence import TimeseriesGenerator\n",
    "from sklearn.preprocessing import MinMaxScaler\n",
    "from sklearn.metrics  import mean_squared_error\n",
    "from matplotlib.ticker import FuncFormatter\n",
    "import seaborn as sns"
   ]
  },
  {
   "cell_type": "code",
   "execution_count": null,
   "id": "3b2ee26a",
   "metadata": {},
   "outputs": [],
   "source": [
    "df_train = pd.read_parquet(\n",
    "    f\"signals/v1.0/train.parquet\"\n",
    ")\n",
    "\n",
    "df_validation = pd.read_parquet(\n",
    "    f\"signals/v1.0/validation.parquet\"\n",
    ")"
   ]
  },
  {
   "cell_type": "code",
   "execution_count": null,
   "id": "88c42e98",
   "metadata": {},
   "outputs": [],
   "source": [
    "df_signal=pd.concat([df_train,df_validation])\n",
    "df_signal['Country'] = df_signal['feature_country'].map(PAISES)\n",
    "df_signal.columns"
   ]
  },
  {
   "cell_type": "code",
   "execution_count": null,
   "id": "0e42e399",
   "metadata": {},
   "outputs": [],
   "source": [
    "df_signal.head(5)"
   ]
  },
  {
   "cell_type": "code",
   "execution_count": null,
   "id": "6952973b",
   "metadata": {},
   "outputs": [],
   "source": [
    "df_signal.info()"
   ]
  },
  {
   "cell_type": "code",
   "execution_count": null,
   "id": "6ec31e50",
   "metadata": {},
   "outputs": [],
   "source": [
    "df_signal.describe()"
   ]
  },
  {
   "cell_type": "code",
   "execution_count": null,
   "id": "f79f59c8",
   "metadata": {},
   "outputs": [],
   "source": [
    "columns_analisis=['date', 'Country','data_type','numerai_ticker','feature_impact_cost_factor', 'feature_beta_factor',\n",
    "       'feature_volatility_factor', 'feature_momentum_12w_factor',\n",
    "       'feature_momentum_26w_factor', 'feature_momentum_52w_factor',\n",
    "       'feature_momentum_52w_less_4w_factor',\n",
    "       'feature_trix_130d_country_ranknorm',\n",
    "       'feature_trix_60d_country_ranknorm',\n",
    "       'feature_rsi_130d_country_ranknorm', 'feature_rsi_60d_country_ranknorm',\n",
    "       'feature_rsi_90d_country_ranknorm',\n",
    "       'feature_ppo_60d_90d_country_ranknorm',\n",
    "       'feature_ppo_60d_130d_country_ranknorm', 'feature_country',\n",
    "       'feature_adv_20d_factor', 'feature_market_cap_factor',\n",
    "       'feature_price_factor', 'feature_earnings_yield_factor',\n",
    "       'feature_dividend_yield_factor', 'feature_book_to_price_factor',\n",
    "       'feature_value_factor', 'feature_growth_factor', 'target_factor_neutral_20',]"
   ]
  },
  {
   "cell_type": "code",
   "execution_count": null,
   "id": "8f9262cf",
   "metadata": {},
   "outputs": [],
   "source": [
    "df_analisis = df_signal[columns_analisis].copy()\n",
    "\n"
   ]
  },
  {
   "cell_type": "code",
   "execution_count": null,
   "id": "bbed1827",
   "metadata": {},
   "outputs": [],
   "source": [
    "df_analisis.groupby(\"data_type\")[\"date\"].min()"
   ]
  },
  {
   "cell_type": "code",
   "execution_count": null,
   "id": "852751e4",
   "metadata": {},
   "outputs": [],
   "source": [
    "df_analisis.groupby(\"data_type\")[\"date\"].max()"
   ]
  },
  {
   "cell_type": "code",
   "execution_count": null,
   "id": "204e6c69",
   "metadata": {},
   "outputs": [],
   "source": [
    "\n",
    "country_counts = df_analisis['data_type'].value_counts()\n",
    "\n",
    "plt.figure(figsize=(12, 8))\n",
    "bars = plt.bar(country_counts.index, country_counts.values, color='skyblue')\n",
    "\n",
    "# Función para formatear números con separadores de miles\n",
    "def format_number(x, pos):\n",
    "    return f'{int(x):,}'\n",
    "\n",
    "formatter = FuncFormatter(format_number)\n",
    "plt.gca().yaxis.set_major_formatter(formatter)\n",
    "\n",
    "# Añadir etiquetas a cada barra\n",
    "for bar in bars:\n",
    "    yval = bar.get_height()\n",
    "    plt.text(bar.get_x() + bar.get_width()/2, yval, format_number(yval, None), ha='center', va='bottom', fontsize=20)\n",
    "\n",
    "# Personalizar el gráfico\n",
    "plt.title('Tamaños de datasets', fontsize=40)\n",
    "plt.xlabel('Sets', fontsize=40)\n",
    "plt.ylabel('Frecuencia', fontsize=40)\n",
    "plt.xticks(rotation=90, fontsize=25)\n",
    "plt.yticks(fontsize=25)\n",
    "plt.grid(axis='y', linestyle='--', alpha=0.7)\n",
    "\n",
    "output_path = 'graficos_eda/distribucion_datasets.jpg'\n",
    "\n",
    "# Mostrar el gráfico\n",
    "plt.tight_layout()\n",
    "plt.savefig(output_path, dpi=300)\n",
    "plt.show()"
   ]
  },
  {
   "cell_type": "code",
   "execution_count": null,
   "id": "f447a6b8",
   "metadata": {},
   "outputs": [],
   "source": [
    "df_analisis['target_str'] = df_analisis['target_factor_neutral_20'].astype(str)\n",
    "country_counts = df_analisis['target_str'].value_counts()\n",
    "\n",
    "plt.figure(figsize=(20, 20))\n",
    "bars = plt.bar(country_counts.index, country_counts.values, color='skyblue')\n",
    "\n",
    "# Función para formatear números con separadores de miles\n",
    "formatter = FuncFormatter(format_number)\n",
    "plt.gca().yaxis.set_major_formatter(formatter)\n",
    "\n",
    "# Añadir etiquetas a cada barra\n",
    "for bar in bars:\n",
    "    yval = bar.get_height()\n",
    "    plt.text(bar.get_x() + bar.get_width()/2, yval, format_number(yval, None), ha='center', va='bottom', rotation=0, fontsize=20)\n",
    "\n",
    "# Personalizar el gráfico\n",
    "plt.title('Distribucion Target', fontsize=80)\n",
    "plt.xlabel('Target', fontsize=60)\n",
    "plt.ylabel('Frecuencia', fontsize=60)\n",
    "plt.xticks(rotation=90, fontsize=20)\n",
    "plt.yticks(fontsize=20)\n",
    "plt.grid(axis='y', linestyle='--', alpha=0.7)\n",
    "\n",
    "output_path = 'graficos_eda/distribucion_target.jpg'\n",
    "\n",
    "# Mostrar el gráfico\n",
    "plt.tight_layout()\n",
    "plt.savefig(output_path, dpi=300)\n",
    "plt.show()"
   ]
  },
  {
   "cell_type": "code",
   "execution_count": null,
   "id": "c2df1b23",
   "metadata": {},
   "outputs": [],
   "source": [
    "paises = df_analisis.groupby(\"Country\")[\"numerai_ticker\"].count().reset_index()\n",
    "paises[\"% pais\"]=paises[\"numerai_ticker\"]/paises[\"numerai_ticker\"].sum()*100\n",
    "paises = paises.sort_values(\"numerai_ticker\", ascending=False)\n",
    "paises[\"% Acumulado\"]=paises[\"% pais\"].cumsum()"
   ]
  },
  {
   "cell_type": "code",
   "execution_count": null,
   "id": "ac58f06a",
   "metadata": {},
   "outputs": [],
   "source": [
    "paises.head(9)"
   ]
  },
  {
   "cell_type": "code",
   "execution_count": null,
   "id": "473c97e6",
   "metadata": {},
   "outputs": [],
   "source": [
    "balanceo_datos = df_analisis.groupby([\"data_type\",\"target_factor_neutral_20\"])[\"numerai_ticker\"].count().reset_index()\n",
    "balanceo_datos"
   ]
  },
  {
   "cell_type": "code",
   "execution_count": null,
   "id": "4c5999bb",
   "metadata": {},
   "outputs": [],
   "source": [
    "\n",
    "country_counts = df_analisis['Country'].value_counts()\n",
    "\n",
    "\n",
    "plt.figure(figsize=(12, 8))\n",
    "bars = plt.bar(country_counts.index, country_counts.values, color='skyblue')\n",
    "\n",
    "formatter = FuncFormatter(format_number)\n",
    "plt.gca().yaxis.set_major_formatter(formatter)\n",
    "\n",
    "# Añadir etiquetas a cada barra\n",
    "for bar in bars:\n",
    "    yval = bar.get_height()\n",
    "    plt.text(bar.get_x() + bar.get_width(), yval, format_number(yval, None), ha='center', va='bottom',rotation=80, fontsize=14 )\n",
    "\n",
    "# Personalizar el gráfico\n",
    "plt.title('Frecuencia Paises', fontsize=40)\n",
    "plt.xlabel('País', fontsize=30)\n",
    "plt.ylabel('Frecuencia', fontsize=30)\n",
    "plt.xticks(rotation=90, fontsize=17)\n",
    "plt.yticks( fontsize=20)\n",
    "plt.grid(axis='y', linestyle='--', alpha=0.7)\n",
    "\n",
    "output_path = 'graficos_eda/frecuencia_paises.jpg'\n",
    "\n",
    "# Mostrar el gráfico\n",
    "plt.tight_layout()\n",
    "plt.savefig(output_path, dpi=300)\n",
    "plt.show()"
   ]
  },
  {
   "cell_type": "code",
   "execution_count": null,
   "id": "0246479b",
   "metadata": {},
   "outputs": [],
   "source": [
    "\n",
    "corr_matrix = df_analisis.corr()\n",
    "plt.figure(figsize=(10, 8))\n",
    "sns.heatmap(corr_matrix, annot=True, cmap='coolwarm', vmin=-1, vmax=1, center=0, fmt='.2f', linewidths=0.5, annot_kws={\"size\": 6} )\n",
    "plt.title('Mapa de Calor de Correlaciones')\n",
    "output_path = 'graficos_eda/correlaciones.jpg'\n",
    "\n",
    "# Mostrar el gráfico\n",
    "plt.tight_layout()\n",
    "plt.savefig(output_path)\n",
    "plt.show()"
   ]
  },
  {
   "cell_type": "code",
   "execution_count": null,
   "id": "a84c2341",
   "metadata": {},
   "outputs": [],
   "source": []
  },
  {
   "cell_type": "code",
   "execution_count": null,
   "id": "5135e908",
   "metadata": {},
   "outputs": [],
   "source": [
    "empresa=\"AAPL\""
   ]
  },
  {
   "cell_type": "code",
   "execution_count": null,
   "id": "13569216",
   "metadata": {},
   "outputs": [],
   "source": [
    "def adfuller_test(riders):\n",
    "    result = adfuller(riders)\n",
    "    labels = ['ADF Test Statistic', 'p-value','#Lags used', 'Number of Observations used']\n",
    "    for value,label in zip(result, labels):\n",
    "        print(label+' : '+str(value))\n",
    "    if result[1] <= 0.05:\n",
    "        print('strong evidence against the null hypothesis(Ho), reject the null hypothesis, data is stationary')\n",
    "    else:\n",
    "        print('weak evidence against the null hypothesis(Ho), data is not stationary')"
   ]
  },
  {
   "cell_type": "code",
   "execution_count": null,
   "id": "98605b00",
   "metadata": {
    "lines_to_next_cell": 2
   },
   "outputs": [],
   "source": [
    "def generar_eda_empresa(df_analisis, empresa):\n",
    "    df_filtrado = df_analisis[df_analisis[\"numerai_ticker\"].str.contains(empresa, na=False)]\n",
    "    fecha_inicio = df_filtrado[\"date\"].min()  # Fecha de inicio\n",
    "    fecha_fin = df_filtrado[\"date\"].max()     # Fecha de fin\n",
    "    frecuencia = 'W-FRI' \n",
    "\n",
    "    fechas = pd.date_range(start=fecha_inicio, end=fecha_fin, freq=frecuencia)\n",
    "\n",
    "    # Crear un DataFrame con la columna de fechas\n",
    "    df = pd.DataFrame(fechas, columns=['date'])\n",
    "\n",
    "    df['date'] = df['date'].dt.strftime('%Y-%m-%d')\n",
    "\n",
    "\n",
    "    #df['date'] = pd.to_datetime(df[\"date\"])\n",
    "    df_filtrado['date'] = pd.to_datetime(df_filtrado[\"date\"])\n",
    "    # df_filtrado['date'] = df_filtrado['date'].dt.strftime('%Y-%m-%d')\n",
    "\n",
    "    # df_filtrado\n",
    "\n",
    "    # df = df.merge(df_filtrado, on=\"date\", how=\"left\")\n",
    "    # df['target_factor_neutral_20'].interpolate(method='linear')\n",
    "    df_filtrado.set_index('date', inplace=True)\n",
    "\n",
    "    #df_filtrado_describe =df_filtrado.describe()\n",
    "    #df_filtrado_describe.to_excel(f\"Descriptivo_{empresa}.xlsx\")\n",
    "\n",
    "    df_filtrado[\"target_movil\"] = df_filtrado[\"target_factor_neutral_20\"].rolling(5).mean()\n",
    "    df_filtrado = df_filtrado.dropna(subset=\"target_movil\")\n",
    "    df_filtrado=df_filtrado[[\"target_factor_neutral_20\",\"target_movil\"]]\n",
    "    fig, ax = plt.subplots(figsize=(12, 6))  # Crea la figura y el eje\n",
    "\n",
    "    # Graficar los datos\n",
    "    df_filtrado.plot(ax=ax)\n",
    "\n",
    "    # Añadir un título al gráfico\n",
    "    fig.suptitle(f'Serie Temporal de {empresa}', fontsize=16)\n",
    "\n",
    "    # Ajustar el tamaño del gráfico si es necesario (esto se hace en la creación del gráfico)\n",
    "    # fig.set_size_inches(10, 8)  # Opcional: solo si necesitas cambiar el tamaño después de la creación\n",
    "\n",
    "    # Guardar el gráfico como imagen\n",
    "    fig.savefig(f'graficos_eda/serie_temporal_{empresa}.png')  # Cambia el nombre del archivo y formato si es necesario\n",
    "\n",
    "    # Mostrar el gráfico\n",
    "    plt.show()\n",
    "\n",
    "    prueba = df_filtrado['target_movil']\n",
    "\n",
    "    results = seasonal_decompose(prueba, model='additive', extrapolate_trend='freq', period=64)\n",
    "    fig = results.plot()\n",
    "\n",
    "    fig.suptitle(f'Descomposición Estacional de la Serie Temporal de {empresa}', fontsize=16)\n",
    "\n",
    "    # Ajustar el tamaño del gráfico si es necesario\n",
    "    fig.set_size_inches(10, 8)  # Puedes ajustar el tamaño según tus necesidades\n",
    "\n",
    "    # Guardar el gráfico como imagen\n",
    "    fig.savefig(f'graficos_eda/descomposicion_estacional_{empresa}.png')  # Cambia el nombre del archivo y formato si es necesario\n",
    "\n",
    "    # Mostrar el gráfico\n",
    "    plt.show()\n",
    "\n",
    "    test_adfuller = adfuller_test(prueba)\n",
    "\n",
    "    print(\"----\")\n",
    "    print(test_adfuller)\n",
    "    print(\"-----\")\n",
    "\n",
    "    # Crear una figura con dos subgráficos\n",
    "    fig = plt.figure(figsize=(12, 8))\n",
    "\n",
    "    # Primer subgráfico: ACF\n",
    "    ax1 = fig.add_subplot(211)\n",
    "    sm.graphics.tsa.plot_acf(prueba, lags=40, ax=ax1)\n",
    "    ax1.set_title(f'Función de Autocorrelación (ACF) {empresa}', fontsize=14)\n",
    "\n",
    "    # Segundo subgráfico: PACF\n",
    "    ax2 = fig.add_subplot(212)\n",
    "    sm.graphics.tsa.plot_pacf(prueba, lags=40, ax=ax2)\n",
    "    ax2.set_title(f'Función de Autocorrelación Parcial (PACF) {empresa}', fontsize=14)\n",
    "\n",
    "    # Ajustar el espacio entre subgráficos\n",
    "    plt.tight_layout()\n",
    "\n",
    "    # Guardar la figura como imagen\n",
    "    fig.savefig(f'graficos_eda/acf_pacf_{empresa}.png')  # Cambia el nombre del archivo y formato si es necesario\n",
    "\n",
    "    # # Mostrar el gráfico\n",
    "    # plt.show()\n",
    "    # df_filtrado.plot.bar(\n",
    "    # title=\"Análisis Variables en el tiempo\",\n",
    "    # figsize=(16, 10),\n",
    "    # layout=(7,5),\n",
    "    # xticks=[],\n",
    "    # subplots=True,\n",
    "    # sharex=False,\n",
    "    # legend=False,\n",
    "    # snap=False\n",
    "    # )\n",
    "    # for ax in plt.gcf().axes:\n",
    "    #     ax.set_xlabel(\"\")\n",
    "    #     ax.title.set_fontsize(11)\n",
    "    # plt.tight_layout(pad=1.5)\n",
    "    # plt.gcf().suptitle(\"Análisis Variables en el tiempo\", fontsize=25)\n",
    "    # plt.savefig(f'graficos_eda/descriptivo_variables_{empresa}.png')"
   ]
  },
  {
   "cell_type": "code",
   "execution_count": null,
   "id": "9d5f3fd3",
   "metadata": {},
   "outputs": [],
   "source": [
    "df_filtrado = df_analisis[df_analisis[\"numerai_ticker\"].str.contains(empresa, na=False)]\n",
    "df_filtrado.items()"
   ]
  },
  {
   "cell_type": "code",
   "execution_count": null,
   "id": "617393e6",
   "metadata": {},
   "outputs": [],
   "source": [
    "df_filtrado.reset_index(inplace=True)"
   ]
  },
  {
   "cell_type": "code",
   "execution_count": null,
   "id": "5905d656",
   "metadata": {},
   "outputs": [],
   "source": [
    "df_filtrado"
   ]
  },
  {
   "cell_type": "code",
   "execution_count": null,
   "id": "3c126e47",
   "metadata": {
    "lines_to_next_cell": 2
   },
   "outputs": [],
   "source": [
    "lista_top_five_sp500 = [\"GOOGL\"]\n",
    "[\"NVDA\", \"AAPL\",\"MSFT\",\"GOOGL\",\"AMZN\",\"TSLA\"]\n",
    "\n",
    "\n",
    "for empresa in lista_top_five_sp500:\n",
    "    generar_eda_empresa(df_analisis, empresa)"
   ]
  },
  {
   "cell_type": "code",
   "execution_count": null,
   "id": "8dc156e6",
   "metadata": {},
   "outputs": [],
   "source": [
    " adfuller_test(prueba)"
   ]
  },
  {
   "cell_type": "code",
   "execution_count": null,
   "id": "47bcc4fd",
   "metadata": {},
   "outputs": [],
   "source": [
    "fig = plt.figure(figsize=(12,8))\n",
    "ax1 = fig.add_subplot(211)\n",
    "fig = sm.graphics.tsa.plot_acf(prueba, lags=40, ax=ax1)\n",
    "ax2 = fig.add_subplot(212)\n",
    "fig = sm.graphics.tsa.plot_pacf(prueba, lags=40, ax=ax2)"
   ]
  },
  {
   "cell_type": "code",
   "execution_count": null,
   "id": "8b819958",
   "metadata": {},
   "outputs": [],
   "source": [
    "stepwise_fit = auto_arima(prueba, trace=True)"
   ]
  },
  {
   "cell_type": "code",
   "execution_count": null,
   "id": "f71c3bbc",
   "metadata": {},
   "outputs": [],
   "source": [
    "stepwise_fit.summary()"
   ]
  },
  {
   "cell_type": "code",
   "execution_count": null,
   "id": "ce838ae8",
   "metadata": {},
   "outputs": [],
   "source": []
  }
 ],
 "metadata": {
  "jupytext": {
   "cell_metadata_filter": "-all",
   "encoding": "# -*- coding: utf-8 -*-",
   "main_language": "python",
   "notebook_metadata_filter": "-all"
  },
  "kernelspec": {
   "display_name": "tensor_2",
   "language": "python",
   "name": "python3"
  },
  "language_info": {
   "name": "python",
   "version": "3.10.14"
  }
 },
 "nbformat": 4,
 "nbformat_minor": 5
}
